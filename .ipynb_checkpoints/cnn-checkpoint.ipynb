{
 "cells": [
  {
   "cell_type": "code",
   "execution_count": 1,
   "metadata": {},
   "outputs": [],
   "source": [
    "import numpy as np\n",
    "import pandas as pd\n",
    "import os"
   ]
  },
  {
   "cell_type": "markdown",
   "metadata": {},
   "source": [
    "Reading file names and labels."
   ]
  },
  {
   "cell_type": "code",
   "execution_count": 2,
   "metadata": {},
   "outputs": [
    {
     "data": {
      "text/html": [
       "<div>\n",
       "<style scoped>\n",
       "    .dataframe tbody tr th:only-of-type {\n",
       "        vertical-align: middle;\n",
       "    }\n",
       "\n",
       "    .dataframe tbody tr th {\n",
       "        vertical-align: top;\n",
       "    }\n",
       "\n",
       "    .dataframe thead th {\n",
       "        text-align: right;\n",
       "    }\n",
       "</style>\n",
       "<table border=\"1\" class=\"dataframe\">\n",
       "  <thead>\n",
       "    <tr style=\"text-align: right;\">\n",
       "      <th></th>\n",
       "      <th>id</th>\n",
       "      <th>label</th>\n",
       "    </tr>\n",
       "  </thead>\n",
       "  <tbody>\n",
       "    <tr>\n",
       "      <th>0</th>\n",
       "      <td>f38a6374c348f90b587e046aac6079959adf3835</td>\n",
       "      <td>0</td>\n",
       "    </tr>\n",
       "    <tr>\n",
       "      <th>1</th>\n",
       "      <td>c18f2d887b7ae4f6742ee445113fa1aef383ed77</td>\n",
       "      <td>1</td>\n",
       "    </tr>\n",
       "    <tr>\n",
       "      <th>2</th>\n",
       "      <td>755db6279dae599ebb4d39a9123cce439965282d</td>\n",
       "      <td>0</td>\n",
       "    </tr>\n",
       "    <tr>\n",
       "      <th>3</th>\n",
       "      <td>bc3f0c64fb968ff4a8bd33af6971ecae77c75e08</td>\n",
       "      <td>0</td>\n",
       "    </tr>\n",
       "    <tr>\n",
       "      <th>4</th>\n",
       "      <td>068aba587a4950175d04c680d38943fd488d6a9d</td>\n",
       "      <td>0</td>\n",
       "    </tr>\n",
       "  </tbody>\n",
       "</table>\n",
       "</div>"
      ],
      "text/plain": [
       "                                         id  label\n",
       "0  f38a6374c348f90b587e046aac6079959adf3835      0\n",
       "1  c18f2d887b7ae4f6742ee445113fa1aef383ed77      1\n",
       "2  755db6279dae599ebb4d39a9123cce439965282d      0\n",
       "3  bc3f0c64fb968ff4a8bd33af6971ecae77c75e08      0\n",
       "4  068aba587a4950175d04c680d38943fd488d6a9d      0"
      ]
     },
     "execution_count": 2,
     "metadata": {},
     "output_type": "execute_result"
    }
   ],
   "source": [
    "train_dir = \"data/train/\"\n",
    "test_dir = \"data/test/\"\n",
    "\n",
    "df_train = pd.read_csv('data/train_labels.csv')\n",
    "df_train.head()"
   ]
  },
  {
   "cell_type": "markdown",
   "metadata": {},
   "source": [
    "Keras' ImageDataGenerator needs labels as a string for some reason. So we turn labels into strings."
   ]
  },
  {
   "cell_type": "code",
   "execution_count": 3,
   "metadata": {},
   "outputs": [],
   "source": [
    "df_train['label'] = df_train['label'].astype(str)"
   ]
  },
  {
   "cell_type": "markdown",
   "metadata": {},
   "source": [
    "Splitting data for training and validation. 80% of data will be used for training and 20% for validation."
   ]
  },
  {
   "cell_type": "code",
   "execution_count": 4,
   "metadata": {},
   "outputs": [],
   "source": [
    "from sklearn.model_selection import train_test_split\n",
    "\n",
    "df = df_train\n",
    "train, valid = train_test_split(df,test_size=0.2)"
   ]
  },
  {
   "cell_type": "markdown",
   "metadata": {},
   "source": [
    "Overall there are more than 200000 images. We can't fit all of these images to memory. So we create a generator to read the images. "
   ]
  },
  {
   "cell_type": "code",
   "execution_count": 5,
   "metadata": {},
   "outputs": [],
   "source": [
    "from tensorflow.python.keras.preprocessing.image import ImageDataGenerator\n",
    "\n",
    "train_datagen = ImageDataGenerator(horizontal_flip=True,\n",
    "                                   vertical_flip=True)\n",
    "\n",
    "test_datagen = ImageDataGenerator()"
   ]
  },
  {
   "cell_type": "code",
   "execution_count": 6,
   "metadata": {},
   "outputs": [],
   "source": [
    "batch_size = 256"
   ]
  },
  {
   "cell_type": "code",
   "execution_count": 7,
   "metadata": {},
   "outputs": [
    {
     "name": "stdout",
     "output_type": "stream",
     "text": [
      "Found 176019 images belonging to 2 classes.\n",
      "Found 44005 images belonging to 2 classes.\n"
     ]
    }
   ],
   "source": [
    "train_generator = train_datagen.flow_from_dataframe(dataframe = train,\n",
    "                                                    directory='data/train/',\n",
    "                                                    x_col='id',\n",
    "                                                    y_col='label',\n",
    "                                                    has_ext=False,\n",
    "                                                    batch_size=batch_size,\n",
    "                                                    shuffle=True,\n",
    "                                                    class_mode='binary',\n",
    "                                                    target_size=(96,96))\n",
    "\n",
    "valid_generator = test_datagen.flow_from_dataframe(dataframe = valid,\n",
    "                                                   directory='data/train/',\n",
    "                                                   x_col='id',\n",
    "                                                   y_col='label',\n",
    "                                                   has_ext=False,\n",
    "                                                   batch_size=batch_size,\n",
    "                                                   shuffle=False,\n",
    "                                                   class_mode='binary',\n",
    "                                                   target_size=(96,96))"
   ]
  },
  {
   "cell_type": "markdown",
   "metadata": {},
   "source": [
    "Creating a pretty basic CNN network with batch normalization. "
   ]
  },
  {
   "cell_type": "code",
   "execution_count": 8,
   "metadata": {},
   "outputs": [
    {
     "name": "stdout",
     "output_type": "stream",
     "text": [
      "WARNING:tensorflow:From C:\\Users\\Maynard\\Anaconda3\\lib\\site-packages\\tensorflow\\python\\ops\\resource_variable_ops.py:435: colocate_with (from tensorflow.python.framework.ops) is deprecated and will be removed in a future version.\n",
      "Instructions for updating:\n",
      "Colocations handled automatically by placer.\n",
      "WARNING:tensorflow:From C:\\Users\\Maynard\\Anaconda3\\lib\\site-packages\\tensorflow\\python\\keras\\layers\\core.py:143: calling dropout (from tensorflow.python.ops.nn_ops) with keep_prob is deprecated and will be removed in a future version.\n",
      "Instructions for updating:\n",
      "Please use `rate` instead of `keep_prob`. Rate should be set to `rate = 1 - keep_prob`.\n"
     ]
    }
   ],
   "source": [
    "from tensorflow.python.keras.models import Sequential\n",
    "from tensorflow.python.keras.layers import Conv2D, Dense, MaxPool2D, Flatten\n",
    "from tensorflow.python.keras.layers import BatchNormalization, Activation, Dropout\n",
    "from tensorflow.python.keras.optimizers import Adam\n",
    "\n",
    "kernel_size=(3,3)\n",
    "pool_size=(2,2)\n",
    "first_filter=32\n",
    "second_filter=64\n",
    "third_filter=128\n",
    "\n",
    "dropout_conv=0.3\n",
    "dropout_dense=0.3\n",
    "\n",
    "model = Sequential()\n",
    "model.add(Conv2D(first_filter, kernel_size, activation='relu', input_shape= (96,96,3)))\n",
    "model.add(Conv2D(first_filter, kernel_size, use_bias=False))\n",
    "model.add(BatchNormalization())\n",
    "model.add(Activation('relu'))\n",
    "model.add(MaxPool2D(pool_size=pool_size))\n",
    "model.add(Dropout(dropout_conv))\n",
    "\n",
    "model.add(Conv2D(second_filter, kernel_size, use_bias=False))\n",
    "model.add(BatchNormalization())\n",
    "model.add(Activation('relu'))\n",
    "model.add(Conv2D(second_filter, kernel_size, use_bias=False))\n",
    "model.add(BatchNormalization())\n",
    "model.add(Activation(\"relu\"))\n",
    "model.add(MaxPool2D(pool_size = pool_size))\n",
    "model.add(Dropout(dropout_conv))\n",
    "\n",
    "model.add(Conv2D(third_filter, kernel_size, use_bias=False))\n",
    "model.add(BatchNormalization())\n",
    "model.add(Activation(\"relu\"))\n",
    "model.add(Conv2D(third_filter, kernel_size, use_bias=False))\n",
    "model.add(BatchNormalization())\n",
    "model.add(Activation(\"relu\"))\n",
    "model.add(MaxPool2D(pool_size = pool_size))\n",
    "model.add(Dropout(dropout_conv))\n",
    "\n",
    "model.add(Flatten())\n",
    "model.add(Dense(256, use_bias=False))\n",
    "model.add(BatchNormalization())\n",
    "model.add(Activation(\"relu\"))\n",
    "model.add(Dropout(dropout_dense))\n",
    "model.add(Dense(1, activation = \"sigmoid\"))\n",
    "\n",
    "model.compile(Adam(0.01), loss = \"binary_crossentropy\", metrics=[\"accuracy\"])"
   ]
  },
  {
   "cell_type": "code",
   "execution_count": 9,
   "metadata": {},
   "outputs": [
    {
     "name": "stdout",
     "output_type": "stream",
     "text": [
      "_________________________________________________________________\n",
      "Layer (type)                 Output Shape              Param #   \n",
      "=================================================================\n",
      "conv2d (Conv2D)              (None, 94, 94, 32)        896       \n",
      "_________________________________________________________________\n",
      "conv2d_1 (Conv2D)            (None, 92, 92, 32)        9216      \n",
      "_________________________________________________________________\n",
      "batch_normalization_v1 (Batc (None, 92, 92, 32)        128       \n",
      "_________________________________________________________________\n",
      "activation (Activation)      (None, 92, 92, 32)        0         \n",
      "_________________________________________________________________\n",
      "max_pooling2d (MaxPooling2D) (None, 46, 46, 32)        0         \n",
      "_________________________________________________________________\n",
      "dropout (Dropout)            (None, 46, 46, 32)        0         \n",
      "_________________________________________________________________\n",
      "conv2d_2 (Conv2D)            (None, 44, 44, 64)        18432     \n",
      "_________________________________________________________________\n",
      "batch_normalization_v1_1 (Ba (None, 44, 44, 64)        256       \n",
      "_________________________________________________________________\n",
      "activation_1 (Activation)    (None, 44, 44, 64)        0         \n",
      "_________________________________________________________________\n",
      "conv2d_3 (Conv2D)            (None, 42, 42, 64)        36864     \n",
      "_________________________________________________________________\n",
      "batch_normalization_v1_2 (Ba (None, 42, 42, 64)        256       \n",
      "_________________________________________________________________\n",
      "activation_2 (Activation)    (None, 42, 42, 64)        0         \n",
      "_________________________________________________________________\n",
      "max_pooling2d_1 (MaxPooling2 (None, 21, 21, 64)        0         \n",
      "_________________________________________________________________\n",
      "dropout_1 (Dropout)          (None, 21, 21, 64)        0         \n",
      "_________________________________________________________________\n",
      "conv2d_4 (Conv2D)            (None, 19, 19, 128)       73728     \n",
      "_________________________________________________________________\n",
      "batch_normalization_v1_3 (Ba (None, 19, 19, 128)       512       \n",
      "_________________________________________________________________\n",
      "activation_3 (Activation)    (None, 19, 19, 128)       0         \n",
      "_________________________________________________________________\n",
      "conv2d_5 (Conv2D)            (None, 17, 17, 128)       147456    \n",
      "_________________________________________________________________\n",
      "batch_normalization_v1_4 (Ba (None, 17, 17, 128)       512       \n",
      "_________________________________________________________________\n",
      "activation_4 (Activation)    (None, 17, 17, 128)       0         \n",
      "_________________________________________________________________\n",
      "max_pooling2d_2 (MaxPooling2 (None, 8, 8, 128)         0         \n",
      "_________________________________________________________________\n",
      "dropout_2 (Dropout)          (None, 8, 8, 128)         0         \n",
      "_________________________________________________________________\n",
      "flatten (Flatten)            (None, 8192)              0         \n",
      "_________________________________________________________________\n",
      "dense (Dense)                (None, 256)               2097152   \n",
      "_________________________________________________________________\n",
      "batch_normalization_v1_5 (Ba (None, 256)               1024      \n",
      "_________________________________________________________________\n",
      "activation_5 (Activation)    (None, 256)               0         \n",
      "_________________________________________________________________\n",
      "dropout_3 (Dropout)          (None, 256)               0         \n",
      "_________________________________________________________________\n",
      "dense_1 (Dense)              (None, 1)                 257       \n",
      "=================================================================\n",
      "Total params: 2,386,689\n",
      "Trainable params: 2,385,345\n",
      "Non-trainable params: 1,344\n",
      "_________________________________________________________________\n"
     ]
    }
   ],
   "source": [
    "model.summary()"
   ]
  },
  {
   "cell_type": "markdown",
   "metadata": {},
   "source": [
    "Training the model."
   ]
  },
  {
   "cell_type": "code",
   "execution_count": 10,
   "metadata": {},
   "outputs": [
    {
     "name": "stdout",
     "output_type": "stream",
     "text": [
      "WARNING:tensorflow:From C:\\Users\\Maynard\\Anaconda3\\lib\\site-packages\\tensorflow\\python\\ops\\math_ops.py:3066: to_int32 (from tensorflow.python.ops.math_ops) is deprecated and will be removed in a future version.\n",
      "Instructions for updating:\n",
      "Use tf.cast instead.\n",
      "Epoch 1/10\n",
      "172/172 [==============================] - 226s 1s/step - loss: 0.8463 - acc: 0.5964\n",
      "688/688 [==============================] - 1591s 2s/step - loss: 0.3966 - acc: 0.8294 - val_loss: 0.8463 - val_acc: 0.5964\n",
      "Epoch 2/10\n",
      "172/172 [==============================] - 51s 297ms/step - loss: 2.0623 - acc: 0.6041\n",
      "\n",
      "Epoch 00002: ReduceLROnPlateau reducing learning rate to 0.0009999999776482583.\n",
      "688/688 [==============================] - 510s 741ms/step - loss: 0.3194 - acc: 0.8669 - val_loss: 2.0623 - val_acc: 0.6041\n",
      "Epoch 3/10\n",
      "172/172 [==============================] - 52s 299ms/step - loss: 0.3541 - acc: 0.8519\n",
      "688/688 [==============================] - 506s 735ms/step - loss: 0.2479 - acc: 0.9006 - val_loss: 0.3541 - val_acc: 0.8519\n",
      "Epoch 4/10\n",
      "172/172 [==============================] - 61s 354ms/step - loss: 0.2375 - acc: 0.9042\n",
      "688/688 [==============================] - 543s 790ms/step - loss: 0.2315 - acc: 0.9078 - val_loss: 0.2375 - val_acc: 0.9042\n",
      "Epoch 5/10\n",
      "172/172 [==============================] - 61s 357ms/step - loss: 0.4481 - acc: 0.8329\n",
      "\n",
      "Epoch 00005: ReduceLROnPlateau reducing learning rate to 9.999999310821295e-05.\n",
      "688/688 [==============================] - 591s 859ms/step - loss: 0.2190 - acc: 0.9143 - val_loss: 0.4481 - val_acc: 0.8329\n",
      "Epoch 6/10\n",
      "172/172 [==============================] - 62s 358ms/step - loss: 0.1941 - acc: 0.9249\n",
      "688/688 [==============================] - 590s 858ms/step - loss: 0.2046 - acc: 0.9201 - val_loss: 0.1941 - val_acc: 0.9249\n",
      "Epoch 7/10\n",
      "172/172 [==============================] - 61s 356ms/step - loss: 0.2058 - acc: 0.9189\n",
      "\n",
      "Epoch 00007: ReduceLROnPlateau reducing learning rate to 9.999999019782991e-06.\n",
      "688/688 [==============================] - 595s 864ms/step - loss: 0.2008 - acc: 0.9220 - val_loss: 0.2058 - val_acc: 0.9189\n",
      "Epoch 8/10\n",
      "172/172 [==============================] - 61s 357ms/step - loss: 0.1972 - acc: 0.9228\n",
      "\n",
      "Epoch 00008: ReduceLROnPlateau reducing learning rate to 9.99999883788405e-07.\n",
      "Restoring model weights from the end of the best epoch.\n",
      "688/688 [==============================] - 593s 862ms/step - loss: 0.1980 - acc: 0.9220 - val_loss: 0.1972 - val_acc: 0.9228\n",
      "Epoch 00008: early stopping\n"
     ]
    }
   ],
   "source": [
    "from tensorflow.python.keras.callbacks import EarlyStopping, ReduceLROnPlateau\n",
    "\n",
    "STEP_SIZE_TRAIN=train_generator.n//batch_size\n",
    "STEP_SIZE_VALID=valid_generator.n//batch_size\n",
    "\n",
    "earlystopper = EarlyStopping(monitor='val_loss', patience=2, verbose=1, restore_best_weights=True)\n",
    "reducel = ReduceLROnPlateau(monitor='val_loss', patience=1, verbose=1, factor=0.1)\n",
    "\n",
    "history = model.fit_generator(train_generator, steps_per_epoch=STEP_SIZE_TRAIN, \n",
    "                    validation_data=valid_generator,\n",
    "                    validation_steps=STEP_SIZE_VALID,\n",
    "                    epochs=10,\n",
    "                    callbacks=[reducel, earlystopper])"
   ]
  },
  {
   "cell_type": "markdown",
   "metadata": {},
   "source": [
    "Testing the model."
   ]
  },
  {
   "cell_type": "code",
   "execution_count": 11,
   "metadata": {},
   "outputs": [
    {
     "name": "stdout",
     "output_type": "stream",
     "text": [
      "Indexes: 0 - 10000\n",
      "Indexes: 10000 - 20000\n",
      "Indexes: 20000 - 30000\n",
      "Indexes: 30000 - 40000\n",
      "Indexes: 40000 - 50000\n",
      "Indexes: 50000 - 60000\n"
     ]
    }
   ],
   "source": [
    "from glob import glob\n",
    "from skimage.io import imread\n",
    "\n",
    "base_test_dir = 'data/test/'\n",
    "test_files = glob(os.path.join(base_test_dir,'*.tif'))\n",
    "submission = pd.DataFrame()\n",
    "file_batch = 10000\n",
    "max_idx = len(test_files)\n",
    "for idx in range(0, max_idx, file_batch):\n",
    "    print(\"Indexes: %i - %i\"%(idx, idx+file_batch))\n",
    "    test_df = pd.DataFrame({'path': test_files[idx:idx+file_batch]})\n",
    "    test_df['id'] = test_df.path.map(lambda x: x.split('/')[1].split(\".\")[0].split('\\\\')[1])\n",
    "    test_df['image'] = test_df['path'].map(imread)\n",
    "    K_test = np.stack(test_df[\"image\"].values)\n",
    "    predictions = model.predict(K_test)\n",
    "    test_df['label'] = predictions\n",
    "    submission = pd.concat([submission, test_df[[\"id\", \"label\"]]])"
   ]
  },
  {
   "cell_type": "code",
   "execution_count": 12,
   "metadata": {},
   "outputs": [],
   "source": [
    "submission.to_csv('submission.csv', index=False)"
   ]
  },
  {
   "cell_type": "code",
   "execution_count": null,
   "metadata": {},
   "outputs": [],
   "source": []
  }
 ],
 "metadata": {
  "kernelspec": {
   "display_name": "Python 3",
   "language": "python",
   "name": "python3"
  },
  "language_info": {
   "codemirror_mode": {
    "name": "ipython",
    "version": 3
   },
   "file_extension": ".py",
   "mimetype": "text/x-python",
   "name": "python",
   "nbconvert_exporter": "python",
   "pygments_lexer": "ipython3",
   "version": "3.7.1"
  }
 },
 "nbformat": 4,
 "nbformat_minor": 2
}
